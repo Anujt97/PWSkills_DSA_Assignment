{
 "cells": [
  {
   "cell_type": "markdown",
   "id": "e7333065",
   "metadata": {},
   "source": [
    "Problem 1: Reverse a singly linked list."
   ]
  },
  {
   "cell_type": "code",
   "execution_count": 3,
   "id": "668f938c",
   "metadata": {},
   "outputs": [
    {
     "name": "stdout",
     "output_type": "stream",
     "text": [
      "5 -> 4 -> 3 -> 2 -> 1 -> "
     ]
    }
   ],
   "source": [
    "class ListNode:\n",
    "    def __init__(self, val=0, next=None):\n",
    "        self.val = val\n",
    "        self.next = next\n",
    "\n",
    "def reverse_linked_list(head):\n",
    "    prev_node = None\n",
    "    current_node = head\n",
    "\n",
    "    while current_node:\n",
    "        next_node = current_node.next\n",
    "        current_node.next = prev_node\n",
    "        prev_node = current_node\n",
    "        current_node = next_node\n",
    "\n",
    "    return prev_node\n",
    "\n",
    "head = ListNode(1)\n",
    "head.next = ListNode(2)\n",
    "head.next.next = ListNode(3)\n",
    "head.next.next.next = ListNode(4)\n",
    "head.next.next.next.next = ListNode(5)\n",
    "\n",
    "\n",
    "new_head = reverse_linked_list(head)\n",
    "\n",
    "while new_head:\n",
    "    print(new_head.val, end=\" -> \")\n",
    "    new_head = new_head.next"
   ]
  },
  {
   "cell_type": "markdown",
   "id": "cd91d459",
   "metadata": {},
   "source": [
    "Problem 2: Merge two sorted linked lists into one sorted linked list."
   ]
  },
  {
   "cell_type": "code",
   "execution_count": 4,
   "id": "9444b396",
   "metadata": {},
   "outputs": [
    {
     "name": "stdout",
     "output_type": "stream",
     "text": [
      "1 -> 1 -> 2 -> 3 -> 4 -> 4 -> "
     ]
    }
   ],
   "source": [
    "class ListNode:\n",
    "    def __init__(self, val=0, next=None):\n",
    "        self.val = val\n",
    "        self.next = next\n",
    "\n",
    "def merge_two_lists(l1, l2):\n",
    "    dummy = ListNode(0)\n",
    "    current = dummy\n",
    "    \n",
    "    while l1 and l2:\n",
    "        if l1.val < l2.val:\n",
    "            current.next = l1\n",
    "            l1 = l1.next\n",
    "        else:\n",
    "            current.next = l2\n",
    "            l2 = l2.next\n",
    "        current = current.next\n",
    "    \n",
    "    if l1:\n",
    "        current.next = l1\n",
    "    if l2:\n",
    "        current.next = l2\n",
    "    \n",
    "    return dummy.next\n",
    "\n",
    "\n",
    "l1 = ListNode(1)\n",
    "l1.next = ListNode(2)\n",
    "l1.next.next = ListNode(4)\n",
    "\n",
    "l2 = ListNode(1)\n",
    "l2.next = ListNode(3)\n",
    "l2.next.next = ListNode(4)\n",
    "\n",
    "merged_head = merge_two_lists(l1, l2)\n",
    "\n",
    "while merged_head:\n",
    "    print(merged_head.val, end=\" -> \")\n",
    "    merged_head = merged_head.next"
   ]
  },
  {
   "cell_type": "markdown",
   "id": "476bb563",
   "metadata": {},
   "source": [
    "Problem 3: Remove the nth node from the end of a linked list."
   ]
  },
  {
   "cell_type": "code",
   "execution_count": 5,
   "id": "541cbded",
   "metadata": {},
   "outputs": [
    {
     "name": "stdout",
     "output_type": "stream",
     "text": [
      "1 -> 2 -> 3 -> 5 -> "
     ]
    }
   ],
   "source": [
    "class ListNode:\n",
    "    def __init__(self, val=0, next=None):\n",
    "        self.val = val\n",
    "        self.next = next\n",
    "\n",
    "def remove_nth_from_end(head, n):\n",
    "    dummy = ListNode(0)\n",
    "    dummy.next = head\n",
    "    fast = slow = dummy\n",
    "\n",
    "    for _ in range(n + 1):\n",
    "        fast = fast.next\n",
    "\n",
    "    # Moving both pointers simultaneously until fast reaches the end\n",
    "    while fast:\n",
    "        fast = fast.next\n",
    "        slow = slow.next\n",
    "\n",
    "    # Removing the nth node by updating the pointers\n",
    "    slow.next = slow.next.next\n",
    "\n",
    "    return dummy.next\n",
    "\n",
    "\n",
    "head = ListNode(1)\n",
    "head.next = ListNode(2)\n",
    "head.next.next = ListNode(3)\n",
    "head.next.next.next = ListNode(4)\n",
    "head.next.next.next.next = ListNode(5)\n",
    "\n",
    "# Removing the 2nd node from the end (n = 2)\n",
    "n = 2\n",
    "new_head = remove_nth_from_end(head, n)\n",
    "\n",
    "while new_head:\n",
    "    print(new_head.val, end=\" -> \")\n",
    "    new_head = new_head.next"
   ]
  },
  {
   "cell_type": "markdown",
   "id": "4cfc8fde",
   "metadata": {},
   "source": [
    "Problem 4: Find the intersection point of two linked lists."
   ]
  },
  {
   "cell_type": "code",
   "execution_count": 6,
   "id": "682a296a",
   "metadata": {},
   "outputs": [
    {
     "name": "stdout",
     "output_type": "stream",
     "text": [
      "Intersection node value: 3\n"
     ]
    }
   ],
   "source": [
    "class ListNode:\n",
    "    def __init__(self, val=0, next=None):\n",
    "        self.val = val\n",
    "        self.next = next\n",
    "\n",
    "def get_intersection_node(headA, headB):\n",
    "    if not headA or not headB:\n",
    "        return None\n",
    "\n",
    "    # Function to get the length of a linked list\n",
    "    def get_length(head):\n",
    "        length = 0\n",
    "        while head:\n",
    "            length += 1\n",
    "            head = head.next\n",
    "        return length\n",
    "\n",
    "    # Getting the lengths and last nodes of both lists\n",
    "    lengthA = get_length(headA)\n",
    "    lengthB = get_length(headB)\n",
    "    tailA, tailB = headA, headB\n",
    "    while tailA.next:\n",
    "        tailA = tailA.next\n",
    "    while tailB.next:\n",
    "        tailB = tailB.next\n",
    "\n",
    "    # If the last nodes are different, there's no intersection\n",
    "    if tailA != tailB:\n",
    "        return None\n",
    "\n",
    "    # Reset the pointers to the heads of both lists\n",
    "    currentA, currentB = headA, headB\n",
    "\n",
    "    # Moving the pointer of the longer list to make their lengths equal\n",
    "    for _ in range(abs(lengthA - lengthB)):\n",
    "        if lengthA > lengthB:\n",
    "            currentA = currentA.next\n",
    "        else:\n",
    "            currentB = currentB.next\n",
    "\n",
    "    # Moving both pointers simultaneously until they meet\n",
    "    while currentA != currentB:\n",
    "        currentA = currentA.next\n",
    "        currentB = currentB.next\n",
    "\n",
    "    return currentA  # or currentB, they're the same at this point\n",
    "\n",
    "headA = ListNode(1)\n",
    "headA.next = ListNode(2)\n",
    "intersection_node = ListNode(3)\n",
    "headA.next.next = intersection_node\n",
    "headA.next.next.next = ListNode(4)\n",
    "\n",
    "headB = ListNode(5)\n",
    "headB.next = ListNode(6)\n",
    "headB.next.next = intersection_node\n",
    "\n",
    "intersection = get_intersection_node(headA, headB)\n",
    "if intersection:\n",
    "    print(\"Intersection node value:\", intersection.val)\n",
    "else:\n",
    "    print(\"No intersection\")"
   ]
  },
  {
   "cell_type": "markdown",
   "id": "226467bf",
   "metadata": {},
   "source": [
    "Problem 5: Remove duplicates from a sorted linked list."
   ]
  },
  {
   "cell_type": "code",
   "execution_count": 7,
   "id": "acf1fa84",
   "metadata": {},
   "outputs": [
    {
     "name": "stdout",
     "output_type": "stream",
     "text": [
      "1 -> 2 -> 3 -> "
     ]
    }
   ],
   "source": [
    "class ListNode:\n",
    "    def __init__(self, val=0, next=None):\n",
    "        self.val = val\n",
    "        self.next = next\n",
    "\n",
    "def delete_duplicates(head):\n",
    "    current = head\n",
    "\n",
    "    while current and current.next:\n",
    "        if current.val == current.next.val:\n",
    "            current.next = current.next.next\n",
    "        else:\n",
    "            current = current.next\n",
    "\n",
    "    return head\n",
    "\n",
    "\n",
    "head = ListNode(1)\n",
    "head.next = ListNode(1)\n",
    "head.next.next = ListNode(2)\n",
    "head.next.next.next = ListNode(3)\n",
    "head.next.next.next.next = ListNode(3)\n",
    "\n",
    "# Remove duplicates from the linked list\n",
    "new_head = delete_duplicates(head)\n",
    "\n",
    "# Print the modified linked list\n",
    "while new_head:\n",
    "    print(new_head.val, end=\" -> \")\n",
    "    new_head = new_head.next"
   ]
  },
  {
   "cell_type": "markdown",
   "id": "d407d45e",
   "metadata": {},
   "source": [
    "Problem 6: Add two numbers represented by linked lists (where each node contains a single digit)."
   ]
  },
  {
   "cell_type": "code",
   "execution_count": 8,
   "id": "7d55f0f0",
   "metadata": {},
   "outputs": [
    {
     "name": "stdout",
     "output_type": "stream",
     "text": [
      "7 -> 0 -> 8 -> "
     ]
    }
   ],
   "source": [
    "class ListNode:\n",
    "    def __init__(self, val=0, next=None):\n",
    "        self.val = val\n",
    "        self.next = next\n",
    "\n",
    "def add_two_numbers(l1, l2):\n",
    "    dummy = ListNode(0)\n",
    "    current = dummy\n",
    "    carry = 0\n",
    "\n",
    "    while l1 or l2 or carry:\n",
    "        # Calculating the sum of current digits and carry\n",
    "        sum_val = carry\n",
    "        if l1:\n",
    "            sum_val += l1.val\n",
    "            l1 = l1.next\n",
    "        if l2:\n",
    "            sum_val += l2.val\n",
    "            l2 = l2.next\n",
    "        \n",
    "        # Updating carry and create a new node with the sum\n",
    "        carry = sum_val // 10\n",
    "        sum_val %= 10\n",
    "        current.next = ListNode(sum_val)\n",
    "        current = current.next\n",
    "\n",
    "    return dummy.next\n",
    "\n",
    "\n",
    "l1 = ListNode(2)\n",
    "l1.next = ListNode(4)\n",
    "l1.next.next = ListNode(3)\n",
    "\n",
    "l2 = ListNode(5)\n",
    "l2.next = ListNode(6)\n",
    "l2.next.next = ListNode(4)\n",
    "\n",
    "sum_head = add_two_numbers(l1, l2)\n",
    "\n",
    "while sum_head:\n",
    "    print(sum_head.val, end=\" -> \")\n",
    "    sum_head = sum_head.next"
   ]
  },
  {
   "cell_type": "markdown",
   "id": "aefb6ff4",
   "metadata": {},
   "source": [
    "Problem 7: Swap nodes in pairs in a linked list."
   ]
  },
  {
   "cell_type": "code",
   "execution_count": 9,
   "id": "0ec62bbf",
   "metadata": {},
   "outputs": [
    {
     "name": "stdout",
     "output_type": "stream",
     "text": [
      "2 -> 1 -> 4 -> 3 -> "
     ]
    }
   ],
   "source": [
    "class ListNode:\n",
    "    def __init__(self, val=0, next=None):\n",
    "        self.val = val\n",
    "        self.next = next\n",
    "\n",
    "def swap_pairs(head):\n",
    "    dummy = ListNode(0)\n",
    "    dummy.next = head\n",
    "    prev = dummy\n",
    "\n",
    "    while prev.next and prev.next.next:\n",
    "        # Nodes to be swapped\n",
    "        first = prev.next\n",
    "        second = prev.next.next\n",
    "\n",
    "        # Swapping\n",
    "        first.next = second.next\n",
    "        second.next = first\n",
    "        prev.next = second\n",
    "\n",
    "        # Move to the next pair\n",
    "        prev = first\n",
    "\n",
    "    return dummy.next\n",
    "\n",
    "head = ListNode(1)\n",
    "head.next = ListNode(2)\n",
    "head.next.next = ListNode(3)\n",
    "head.next.next.next = ListNode(4)\n",
    "\n",
    "# Swaping nodes in pairs\n",
    "new_head = swap_pairs(head)\n",
    "\n",
    "while new_head:\n",
    "    print(new_head.val, end=\" -> \")\n",
    "    new_head = new_head.next"
   ]
  },
  {
   "cell_type": "markdown",
   "id": "76fb1506",
   "metadata": {},
   "source": [
    "Problem 8: Reverse nodes in a linked list in groups of k."
   ]
  },
  {
   "cell_type": "code",
   "execution_count": 10,
   "id": "cace7480",
   "metadata": {},
   "outputs": [
    {
     "name": "stdout",
     "output_type": "stream",
     "text": [
      "3 -> 2 -> 1 -> 6 -> 5 -> 4 -> 8 -> 7 -> "
     ]
    }
   ],
   "source": [
    "class ListNode:\n",
    "    def __init__(self, val=0, next=None):\n",
    "        self.val = val\n",
    "        self.next = next\n",
    "\n",
    "def reverse_k_group(head, k):\n",
    "    def reverse_group(start, end):\n",
    "        prev, curr = None, start\n",
    "        while curr != end:\n",
    "            next_node = curr.next\n",
    "            curr.next = prev\n",
    "            prev = curr\n",
    "            curr = next_node\n",
    "        return prev\n",
    "\n",
    "    dummy = ListNode(0)\n",
    "    dummy.next = head\n",
    "    prev_group_end = dummy\n",
    "\n",
    "    while True:\n",
    "        group_start = prev_group_end.next\n",
    "        group_end = group_start\n",
    "        for _ in range(k - 1):\n",
    "            if group_end:\n",
    "                group_end = group_end.next\n",
    "            else:\n",
    "                return dummy.next\n",
    "\n",
    "        # Saving the next group's starting point before reversing the current group\n",
    "        next_group_start = None\n",
    "        if group_end:\n",
    "            next_group_start = group_end.next\n",
    "\n",
    "        # Reversing the current group and connect it with the previous group\n",
    "        prev_group_end.next = reverse_group(group_start, next_group_start)\n",
    "        group_start.next = next_group_start\n",
    "\n",
    "        # Updating pointers for the next iteration\n",
    "        prev_group_end = group_start\n",
    "\n",
    "head = ListNode(1)\n",
    "current = head\n",
    "for i in range(2, 9):\n",
    "    current.next = ListNode(i)\n",
    "    current = current.next\n",
    "\n",
    "# Reversing nodes in groups of 3\n",
    "k = 3\n",
    "new_head = reverse_k_group(head, k)\n",
    "\n",
    "while new_head:\n",
    "    print(new_head.val, end=\" -> \")\n",
    "    new_head = new_head.next"
   ]
  },
  {
   "cell_type": "markdown",
   "id": "284c88ef",
   "metadata": {},
   "source": [
    "Problem 9: Determine if a linked list is a palindrome."
   ]
  },
  {
   "cell_type": "code",
   "execution_count": 11,
   "id": "c269639a",
   "metadata": {},
   "outputs": [
    {
     "name": "stdout",
     "output_type": "stream",
     "text": [
      "True\n"
     ]
    }
   ],
   "source": [
    "class ListNode:\n",
    "    def __init__(self, val=0, next=None):\n",
    "        self.val = val\n",
    "        self.next = next\n",
    "\n",
    "def is_palindrome(head):\n",
    "    def reverse_linked_list(node):\n",
    "        prev = None\n",
    "        while node:\n",
    "            next_node = node.next\n",
    "            node.next = prev\n",
    "            prev = node\n",
    "            node = next_node\n",
    "        return prev\n",
    "    \n",
    "    def find_middle(node):\n",
    "        slow = fast = node\n",
    "        while fast and fast.next:\n",
    "            slow = slow.next\n",
    "            fast = fast.next.next\n",
    "        return slow\n",
    "    \n",
    "    # Reversing the second half of the linked list\n",
    "    middle = find_middle(head)\n",
    "    second_half_reversed = reverse_linked_list(middle)\n",
    "    \n",
    "    # Comparing the first half with the reversed second half\n",
    "    first_half, second_half = head, second_half_reversed\n",
    "    while second_half:\n",
    "        if first_half.val != second_half.val:\n",
    "            return False\n",
    "        first_half = first_half.next\n",
    "        second_half = second_half.next\n",
    "    \n",
    "    return True\n",
    "\n",
    "head = ListNode(1)\n",
    "head.next = ListNode(2)\n",
    "head.next.next = ListNode(3)\n",
    "head.next.next.next = ListNode(2)\n",
    "head.next.next.next.next = ListNode(1)\n",
    "\n",
    "print(is_palindrome(head))"
   ]
  },
  {
   "cell_type": "markdown",
   "id": "f84071c2",
   "metadata": {},
   "source": [
    "Problem 10: Rotate a linked list to the right by k places."
   ]
  },
  {
   "cell_type": "code",
   "execution_count": 12,
   "id": "bb726cfc",
   "metadata": {},
   "outputs": [
    {
     "name": "stdout",
     "output_type": "stream",
     "text": [
      "4 -> 5 -> 1 -> 2 -> 3 -> "
     ]
    }
   ],
   "source": [
    "class ListNode:\n",
    "    def __init__(self, val=0, next=None):\n",
    "        self.val = val\n",
    "        self.next = next\n",
    "\n",
    "def rotate_right(head, k):\n",
    "    if not head or k == 0:\n",
    "        return head\n",
    "    \n",
    "    length = 1\n",
    "    last_node = head\n",
    "    while last_node.next:\n",
    "        length += 1\n",
    "        last_node = last_node.next\n",
    "    \n",
    "    # Calculating the effective rotation count\n",
    "    k = k % length\n",
    "    if k == 0:\n",
    "        return head\n",
    "    \n",
    "    # Finding the (length - k)th node from the beginning\n",
    "    new_tail = head\n",
    "    for _ in range(length - k - 1):\n",
    "        new_tail = new_tail.next\n",
    "    \n",
    "    # Updating the pointers to perform rotation\n",
    "    new_head = new_tail.next\n",
    "    new_tail.next = None\n",
    "    last_node.next = head\n",
    "    \n",
    "    return new_head\n",
    "\n",
    "head = ListNode(1)\n",
    "head.next = ListNode(2)\n",
    "head.next.next = ListNode(3)\n",
    "head.next.next.next = ListNode(4)\n",
    "head.next.next.next.next = ListNode(5)\n",
    "\n",
    "k = 2\n",
    "new_head = rotate_right(head, k)\n",
    "\n",
    "while new_head:\n",
    "    print(new_head.val, end=\" -> \")\n",
    "    new_head = new_head.next"
   ]
  },
  {
   "cell_type": "markdown",
   "id": "52b4d7a0",
   "metadata": {},
   "source": [
    "Problem 11: Flatten a multilevel doubly linked list."
   ]
  },
  {
   "cell_type": "code",
   "execution_count": 13,
   "id": "1b0e8d6c",
   "metadata": {},
   "outputs": [
    {
     "name": "stdout",
     "output_type": "stream",
     "text": [
      "1 <-> 2 <-> 3 <-> 4 <-> 5 <-> "
     ]
    }
   ],
   "source": [
    "class Node:\n",
    "    def __init__(self, val=None, prev=None, next=None, child=None):\n",
    "        self.val = val\n",
    "        self.prev = prev\n",
    "        self.next = next\n",
    "        self.child = child\n",
    "\n",
    "def flatten(head):\n",
    "    if not head:\n",
    "        return head\n",
    "    \n",
    "    def flatten_child(node):\n",
    "        if not node:\n",
    "            return None\n",
    "        \n",
    "        # Flatten the child list\n",
    "        child_tail = flatten_child(node.child)\n",
    "        next_node = node.next\n",
    "        \n",
    "        # If there's a child list, merge it with the current list\n",
    "        if child_tail:\n",
    "            node.next = node.child\n",
    "            node.child.prev = node\n",
    "            node.child = None\n",
    "            child_tail.next = next_node\n",
    "            if next_node:\n",
    "                next_node.prev = child_tail\n",
    "            return flatten_child(child_tail)\n",
    "        else:\n",
    "            if next_node:\n",
    "                next_node.prev = node\n",
    "            return node\n",
    "        \n",
    "    flatten_child(head)\n",
    "    return head\n",
    "\n",
    "head = Node(1)\n",
    "head.next = Node(2)\n",
    "head.next.prev = head\n",
    "head.next.next = Node(3)\n",
    "head.next.next.prev = head.next\n",
    "head.next.next.next = Node(4)\n",
    "head.next.next.next.prev = head.next.next\n",
    "head.next.next.next.next = Node(5)\n",
    "head.next.next.next.next.prev = head.next.next.next\n",
    "\n",
    "head.next.child = Node(6)\n",
    "head.next.child.next = Node(7)\n",
    "head.next.child.next.prev = head.next.child\n",
    "head.next.child.next.next = Node(8)\n",
    "head.next.child.next.next.prev = head.next.child.next\n",
    "\n",
    "# Flatten the multilevel doubly linked list\n",
    "flattened_head = flatten(head)\n",
    "\n",
    "current = flattened_head\n",
    "while current:\n",
    "    print(current.val, end=\" <-> \")\n",
    "    current = current.next"
   ]
  },
  {
   "cell_type": "markdown",
   "id": "026a0481",
   "metadata": {},
   "source": [
    "Problem 12: Rearrange a linked list such that all even positioned nodes are placed at the end."
   ]
  },
  {
   "cell_type": "code",
   "execution_count": 14,
   "id": "7347bd4f",
   "metadata": {},
   "outputs": [
    {
     "name": "stdout",
     "output_type": "stream",
     "text": [
      "1 -> 3 -> 5 -> 7 -> 2 -> 4 -> 6 -> 8 -> "
     ]
    }
   ],
   "source": [
    "class ListNode:\n",
    "    def __init__(self, val=0, next=None):\n",
    "        self.val = val\n",
    "        self.next = next\n",
    "\n",
    "def rearrange_linked_list(head):\n",
    "    if not head or not head.next:\n",
    "        return head\n",
    "    \n",
    "    # Separating nodes at odd and even positions\n",
    "    odd_head = odd_tail = ListNode(0)\n",
    "    even_head = even_tail = ListNode(0)\n",
    "    \n",
    "    current = head\n",
    "    is_odd = True\n",
    "    while current:\n",
    "        if is_odd:\n",
    "            odd_tail.next = current\n",
    "            odd_tail = odd_tail.next\n",
    "        else:\n",
    "            even_tail.next = current\n",
    "            even_tail = even_tail.next\n",
    "        is_odd = not is_odd\n",
    "        current = current.next\n",
    "    \n",
    "    # Connecting the last node of the odd list to the head of the even list\n",
    "    odd_tail.next = even_head.next\n",
    "    \n",
    "    # Updating the head of the original list\n",
    "    new_head = odd_head.next\n",
    "    \n",
    "    even_tail.next = None\n",
    "    \n",
    "    return new_head\n",
    "\n",
    "head = ListNode(1)\n",
    "current = head\n",
    "for i in range(2, 9):\n",
    "    current.next = ListNode(i)\n",
    "    current = current.next\n",
    "\n",
    "# Rearranging the linked list such that all even positioned nodes are placed at the end\n",
    "new_head = rearrange_linked_list(head)\n",
    "\n",
    "while new_head:\n",
    "    print(new_head.val, end=\" -> \")\n",
    "    new_head = new_head.next"
   ]
  },
  {
   "cell_type": "markdown",
   "id": "f49216e6",
   "metadata": {},
   "source": [
    "Problem 13: Given a non-negative number represented as a linked list, add one to it."
   ]
  },
  {
   "cell_type": "code",
   "execution_count": 15,
   "id": "ef9c331c",
   "metadata": {},
   "outputs": [
    {
     "name": "stdout",
     "output_type": "stream",
     "text": [
      "1 -> 2 -> 4 -> "
     ]
    }
   ],
   "source": [
    "class ListNode:\n",
    "    def __init__(self, val=0, next=None):\n",
    "        self.val = val\n",
    "        self.next = next\n",
    "\n",
    "def add_one(head):\n",
    "    def reverse_linked_list(node):\n",
    "        prev = None\n",
    "        while node:\n",
    "            next_node = node.next\n",
    "            node.next = prev\n",
    "            prev = node\n",
    "            node = next_node\n",
    "        return prev\n",
    "    \n",
    "    # Reversing the linked list\n",
    "    reversed_head = reverse_linked_list(head)\n",
    "    \n",
    "    # Addind one to each digit\n",
    "    current = reversed_head\n",
    "    carry = 1\n",
    "    while current:\n",
    "        current.val += carry\n",
    "        if current.val >= 10:\n",
    "            carry = 1\n",
    "            current.val %= 10\n",
    "        else:\n",
    "            carry = 0\n",
    "        if not current.next and carry:\n",
    "            current.next = ListNode(1)\n",
    "            break\n",
    "        current = current.next\n",
    "\n",
    "    return reverse_linked_list(reversed_head)\n",
    "\n",
    "head = ListNode(1)\n",
    "head.next = ListNode(2)\n",
    "head.next.next = ListNode(3)\n",
    "\n",
    "new_head = add_one(head)\n",
    "\n",
    "while new_head:\n",
    "    print(new_head.val, end=\" -> \")\n",
    "    new_head = new_head.next"
   ]
  },
  {
   "cell_type": "markdown",
   "id": "a7bbc42e",
   "metadata": {},
   "source": [
    "Problem 14: Given a sorted array and a target value, return the index if the target is found. If not, return the index where it would be inserted."
   ]
  },
  {
   "cell_type": "code",
   "execution_count": 16,
   "id": "19c91f3b",
   "metadata": {},
   "outputs": [
    {
     "name": "stdout",
     "output_type": "stream",
     "text": [
      "2\n",
      "1\n"
     ]
    }
   ],
   "source": [
    "def search_insert_position(nums, target):\n",
    "    left, right = 0, len(nums) - 1\n",
    "\n",
    "    while left <= right:\n",
    "        mid = left + (right - left) // 2\n",
    "        if nums[mid] == target:\n",
    "            return mid\n",
    "        elif nums[mid] < target:\n",
    "            left = mid + 1\n",
    "        else:\n",
    "            right = mid - 1\n",
    "\n",
    "    return left\n",
    "\n",
    "nums = [1, 3, 5, 6]\n",
    "target = 5\n",
    "print(search_insert_position(nums, target))\n",
    "\n",
    "target = 2\n",
    "print(search_insert_position(nums, target))"
   ]
  },
  {
   "cell_type": "markdown",
   "id": "d4ef053d",
   "metadata": {},
   "source": [
    "Problem 15: Find the minimum element in a rotated sorted array."
   ]
  },
  {
   "cell_type": "code",
   "execution_count": 17,
   "id": "a3aa40b2",
   "metadata": {},
   "outputs": [
    {
     "name": "stdout",
     "output_type": "stream",
     "text": [
      "1\n",
      "11\n"
     ]
    }
   ],
   "source": [
    "def find_min(nums):\n",
    "    left, right = 0, len(nums) - 1\n",
    "\n",
    "    while left < right:\n",
    "        mid = left + (right - left) // 2\n",
    "\n",
    "        if nums[mid] > nums[right]:\n",
    "            left = mid + 1\n",
    "        else:\n",
    "            right = mid\n",
    "\n",
    "    # At this point, left == right and both point to the minimum element\n",
    "    return nums[left]\n",
    "\n",
    "nums = [3, 4, 5, 1, 2]\n",
    "print(find_min(nums))\n",
    "\n",
    "nums = [11, 13, 15, 17]\n",
    "print(find_min(nums))\n"
   ]
  },
  {
   "cell_type": "markdown",
   "id": "a83890df",
   "metadata": {},
   "source": [
    "Problem 16: Search for a target value in a rotated sorted array."
   ]
  },
  {
   "cell_type": "code",
   "execution_count": 18,
   "id": "69e7f406",
   "metadata": {},
   "outputs": [
    {
     "name": "stdout",
     "output_type": "stream",
     "text": [
      "4\n"
     ]
    }
   ],
   "source": [
    "def search(nums, target):\n",
    "    left, right = 0, len(nums) - 1\n",
    "\n",
    "    while left <= right:\n",
    "        mid = left + (right - left) // 2\n",
    "\n",
    "        if nums[mid] == target:\n",
    "            return mid\n",
    "\n",
    "        if nums[left] <= nums[mid]:\n",
    "            if nums[left] <= target < nums[mid]:\n",
    "                right = mid - 1\n",
    "            else:\n",
    "                left = mid + 1\n",
    "        else:\n",
    "            if nums[mid] < target <= nums[right]:\n",
    "                left = mid + 1\n",
    "            else:\n",
    "                right = mid - 1\n",
    "\n",
    "    return -1\n",
    "\n",
    "nums = [4, 5, 6, 7, 0, 1, 2]\n",
    "target = 0\n",
    "print(search(nums, target))"
   ]
  },
  {
   "cell_type": "markdown",
   "id": "246e7585",
   "metadata": {},
   "source": [
    "Problem 17: Find the peak element in an array. A peak element is greater than its neighbors."
   ]
  },
  {
   "cell_type": "code",
   "execution_count": 20,
   "id": "18262f21",
   "metadata": {},
   "outputs": [
    {
     "name": "stdout",
     "output_type": "stream",
     "text": [
      "2\n",
      "5\n"
     ]
    }
   ],
   "source": [
    "def find_peak_element(nums):\n",
    "    left, right = 0, len(nums) - 1\n",
    "\n",
    "    while left < right:\n",
    "        mid = left + (right - left) // 2\n",
    "\n",
    "        # Checking if mid is a peak\n",
    "        if nums[mid] > nums[mid + 1]:\n",
    "            right = mid\n",
    "        else:\n",
    "            left = mid + 1\n",
    "\n",
    "    return left\n",
    "\n",
    "nums = [1, 2, 3, 1]\n",
    "print(find_peak_element(nums))\n",
    "\n",
    "nums = [1, 2, 1, 3, 5, 6, 4]\n",
    "print(find_peak_element(nums))"
   ]
  },
  {
   "cell_type": "markdown",
   "id": "3ce26d2b",
   "metadata": {},
   "source": [
    "Problem 18: Given a m x n matrix where each row and column is sorted in ascending order, count the number of negative numbers."
   ]
  },
  {
   "cell_type": "code",
   "execution_count": 21,
   "id": "e85f3096",
   "metadata": {},
   "outputs": [
    {
     "name": "stdout",
     "output_type": "stream",
     "text": [
      "8\n"
     ]
    }
   ],
   "source": [
    "def count_negatives(matrix):\n",
    "    rows, cols = len(matrix), len(matrix[0])\n",
    "    count = 0\n",
    "    row, col = rows - 1, 0\n",
    "\n",
    "    while row >= 0 and col < cols:\n",
    "        if matrix[row][col] < 0:\n",
    "            count += cols - col\n",
    "            row -= 1\n",
    "        else:\n",
    "            col += 1\n",
    "\n",
    "    return count\n",
    "\n",
    "\n",
    "matrix = [\n",
    "    [4, 3, 2, -1],\n",
    "    [3, 2, 1, -1],\n",
    "    [1, 1, -1, -2],\n",
    "    [-1, -1, -2, -3]\n",
    "]\n",
    "print(count_negatives(matrix))"
   ]
  },
  {
   "cell_type": "markdown",
   "id": "a2ad13a3",
   "metadata": {},
   "source": [
    "Problem 19: Given a 2D matrix sorted in ascending order in each row, and the first integer of each row is greater than the last integer of the previous row, determine if a target value is present in the matrix."
   ]
  },
  {
   "cell_type": "code",
   "execution_count": 22,
   "id": "29157cfe",
   "metadata": {},
   "outputs": [
    {
     "name": "stdout",
     "output_type": "stream",
     "text": [
      "True\n",
      "False\n"
     ]
    }
   ],
   "source": [
    "def search_matrix(matrix, target):\n",
    "    if not matrix or not matrix[0]:\n",
    "        return False\n",
    "\n",
    "    rows, cols = len(matrix), len(matrix[0])\n",
    "    row, col = 0, cols - 1 \n",
    "\n",
    "    while row < rows and col >= 0:\n",
    "        if matrix[row][col] == target:\n",
    "            return True\n",
    "        elif matrix[row][col] < target:\n",
    "            row += 1 \n",
    "        else:\n",
    "            col -= 1\n",
    "\n",
    "    return False\n",
    "\n",
    "matrix = [\n",
    "    [1, 4, 7, 11],\n",
    "    [2, 5, 8, 12],\n",
    "    [3, 6, 9, 16],\n",
    "    [10, 13, 14, 17],\n",
    "    [18, 21, 23, 26]\n",
    "]\n",
    "target = 5\n",
    "print(search_matrix(matrix, target))\n",
    "\n",
    "target = 20\n",
    "print(search_matrix(matrix, target))"
   ]
  },
  {
   "cell_type": "markdown",
   "id": "20c5a5a4",
   "metadata": {},
   "source": [
    "Problem 20: Find Median in Two Sorted Arrays\n",
    "\n",
    "Problem: Given two sorted arrays, find the median of the combined sorted array."
   ]
  },
  {
   "cell_type": "code",
   "execution_count": 23,
   "id": "bad2e7ad",
   "metadata": {},
   "outputs": [
    {
     "name": "stdout",
     "output_type": "stream",
     "text": [
      "2\n"
     ]
    }
   ],
   "source": [
    "def findMedianSortedArrays(nums1, nums2):\n",
    "    merged = []\n",
    "    i, j = 0, 0\n",
    "\n",
    "    while i < len(nums1) and j < len(nums2):\n",
    "        if nums1[i] < nums2[j]:\n",
    "            merged.append(nums1[i])\n",
    "            i += 1\n",
    "        else:\n",
    "            merged.append(nums2[j])\n",
    "            j += 1\n",
    "\n",
    "    # Appending remaining elements from nums1\n",
    "    while i < len(nums1):\n",
    "        merged.append(nums1[i])\n",
    "        i += 1\n",
    "\n",
    "    # Appending remaining elements from nums2\n",
    "    while j < len(nums2):\n",
    "        merged.append(nums2[j])\n",
    "        j += 1\n",
    "\n",
    "    n = len(merged)\n",
    "    if n % 2 == 0:\n",
    "        return (merged[n // 2 - 1] + merged[n // 2]) / 2.0\n",
    "    else:\n",
    "        return merged[n // 2]\n",
    "\n",
    "nums1 = [1, 3]\n",
    "nums2 = [2]\n",
    "print(findMedianSortedArrays(nums1, nums2))"
   ]
  },
  {
   "cell_type": "markdown",
   "id": "13718d4f",
   "metadata": {},
   "source": [
    "Problem 21: Given a sorted character array and a target letter, find the smallest letter in the array that is greater than the target."
   ]
  },
  {
   "cell_type": "code",
   "execution_count": 24,
   "id": "489b2cc9",
   "metadata": {},
   "outputs": [
    {
     "name": "stdout",
     "output_type": "stream",
     "text": [
      "c\n",
      "f\n",
      "f\n"
     ]
    }
   ],
   "source": [
    "def next_greatest_letter(letters, target):\n",
    "    left, right = 0, len(letters) - 1\n",
    "\n",
    "    while left <= right:\n",
    "        mid = left + (right - left) // 2\n",
    "\n",
    "        if letters[mid] <= target:\n",
    "            left = mid + 1\n",
    "        else:\n",
    "            right = mid - 1\n",
    "\n",
    "    # Handling wrap-around if the target is greater than all letters\n",
    "    return letters[left % len(letters)]\n",
    "\n",
    "letters = [\"c\", \"f\", \"j\"]\n",
    "target = \"a\"\n",
    "print(next_greatest_letter(letters, target))\n",
    "\n",
    "target = \"c\"\n",
    "print(next_greatest_letter(letters, target))\n",
    "\n",
    "target = \"d\"\n",
    "print(next_greatest_letter(letters, target))"
   ]
  },
  {
   "cell_type": "markdown",
   "id": "3bffd4b0",
   "metadata": {},
   "source": [
    "Problem 22: Given an array with n objects colored red, white, or blue, sort them in-place so that objects of the same color are adjacent, with the colors in the order red, white, and blue."
   ]
  },
  {
   "cell_type": "code",
   "execution_count": 25,
   "id": "2b9b8eea",
   "metadata": {},
   "outputs": [
    {
     "name": "stdout",
     "output_type": "stream",
     "text": [
      "[0, 0, 1, 1, 2, 2]\n"
     ]
    }
   ],
   "source": [
    "def sortColors(nums):\n",
    "    left, cur, right = 0, 0, len(nums) - 1\n",
    "\n",
    "    while cur <= right:\n",
    "        if nums[cur] == 0:\n",
    "            nums[left], nums[cur] = nums[cur], nums[left]\n",
    "            left += 1\n",
    "            cur += 1\n",
    "        elif nums[cur] == 2:\n",
    "            nums[cur], nums[right] = nums[right], nums[cur]\n",
    "            right -= 1\n",
    "        else:  \n",
    "            cur += 1\n",
    "\n",
    "nums = [2, 0, 2, 1, 1, 0]\n",
    "sortColors(nums)\n",
    "print(nums)"
   ]
  },
  {
   "cell_type": "markdown",
   "id": "0d36dff7",
   "metadata": {},
   "source": [
    "Problem 23: Find the kth largest element in an unsorted array."
   ]
  },
  {
   "cell_type": "code",
   "execution_count": 26,
   "id": "b9cd2063",
   "metadata": {},
   "outputs": [
    {
     "name": "stdout",
     "output_type": "stream",
     "text": [
      "5\n"
     ]
    }
   ],
   "source": [
    "import random\n",
    "\n",
    "def findKthLargest(nums, k):\n",
    "    def partition(left, right, pivot_index):\n",
    "        pivot = nums[pivot_index]\n",
    "        # Moving pivot to the end\n",
    "        nums[pivot_index], nums[right] = nums[right], nums[pivot_index]\n",
    "\n",
    "        # Moving all elements smaller than the pivot to the left\n",
    "        store_index = left\n",
    "        for i in range(left, right):\n",
    "            if nums[i] < pivot:\n",
    "                nums[i], nums[store_index] = nums[store_index], nums[i]\n",
    "                store_index += 1\n",
    "\n",
    "        # Moving pivot to its final position\n",
    "        nums[right], nums[store_index] = nums[store_index], nums[right]\n",
    "        return store_index\n",
    "\n",
    "    def select(left, right, k_smallest):\n",
    "        if left == right:\n",
    "            return nums[left]\n",
    "\n",
    "        pivot_index = random.randint(left, right)\n",
    "        pivot_index = partition(left, right, pivot_index)\n",
    "\n",
    "        if k_smallest == pivot_index:\n",
    "            return nums[k_smallest]\n",
    "        elif k_smallest < pivot_index:\n",
    "            return select(left, pivot_index - 1, k_smallest)\n",
    "        else:\n",
    "            return select(pivot_index + 1, right, k_smallest)\n",
    "\n",
    "    return select(0, len(nums) - 1, len(nums) - k)\n",
    "\n",
    "nums = [3, 2, 1, 5, 6, 4]\n",
    "k = 2\n",
    "print(findKthLargest(nums, k))"
   ]
  },
  {
   "cell_type": "markdown",
   "id": "122d141c",
   "metadata": {},
   "source": [
    "Problem 24: Given an unsorted array, reorder it in-place such that nums[0] <= nums[1] >= nums[2] <= nums[3]..."
   ]
  },
  {
   "cell_type": "code",
   "execution_count": 29,
   "id": "210a26e3",
   "metadata": {},
   "outputs": [
    {
     "name": "stdout",
     "output_type": "stream",
     "text": [
      "[3, 5, 1, 6, 2, 4]\n"
     ]
    }
   ],
   "source": [
    "def wiggleSort(nums):\n",
    "    n = len(nums)\n",
    "    for i in range(n - 1):\n",
    "        if (i % 2 == 0 and nums[i] > nums[i + 1]) or (i % 2 == 1 and nums[i] < nums[i + 1]):\n",
    "            nums[i], nums[i + 1] = nums[i + 1], nums[i]\n",
    "\n",
    "nums = [3, 5, 2, 1, 6, 4]\n",
    "wiggleSort(nums)\n",
    "print(nums)"
   ]
  },
  {
   "cell_type": "markdown",
   "id": "53149cab",
   "metadata": {},
   "source": [
    "Problem 25: Given an array of integers, calculate the sum of all its elements."
   ]
  },
  {
   "cell_type": "code",
   "execution_count": 30,
   "id": "1ee6e060",
   "metadata": {},
   "outputs": [
    {
     "name": "stdout",
     "output_type": "stream",
     "text": [
      "15\n"
     ]
    }
   ],
   "source": [
    "def sum_of_elements(nums):\n",
    "    total = 0\n",
    "    for num in nums:\n",
    "        total += num\n",
    "    return total\n",
    "\n",
    "nums = [1, 2, 3, 4, 5]\n",
    "print(sum_of_elements(nums))"
   ]
  },
  {
   "cell_type": "markdown",
   "id": "1ed66385",
   "metadata": {},
   "source": [
    "Problem 26: Find the maximum element in an array of integers."
   ]
  },
  {
   "cell_type": "code",
   "execution_count": 31,
   "id": "94464afa",
   "metadata": {},
   "outputs": [
    {
     "name": "stdout",
     "output_type": "stream",
     "text": [
      "9\n"
     ]
    }
   ],
   "source": [
    "def find_max(nums):\n",
    "    if not nums:\n",
    "        return None\n",
    "    \n",
    "    max_num = nums[0]\n",
    "    for num in nums:\n",
    "        if num > max_num:\n",
    "            max_num = num\n",
    "    return max_num\n",
    "\n",
    "nums = [3, 7, 2, 9, 4, 5]\n",
    "print(find_max(nums))"
   ]
  },
  {
   "cell_type": "markdown",
   "id": "a29cf7ad",
   "metadata": {},
   "source": [
    "Problem 27: Implement linear search to find the index of a target element in an array."
   ]
  },
  {
   "cell_type": "code",
   "execution_count": 32,
   "id": "b8696539",
   "metadata": {},
   "outputs": [
    {
     "name": "stdout",
     "output_type": "stream",
     "text": [
      "3\n",
      "-1\n"
     ]
    }
   ],
   "source": [
    "def linear_search(nums, target):\n",
    "    for i, num in enumerate(nums):\n",
    "        if num == target:\n",
    "            return i\n",
    "    return -1\n",
    "\n",
    "nums = [4, 7, 2, 9, 1, 5]\n",
    "target = 9\n",
    "print(linear_search(nums, target))\n",
    "\n",
    "target = 3\n",
    "print(linear_search(nums, target))"
   ]
  },
  {
   "cell_type": "markdown",
   "id": "a35b0517",
   "metadata": {},
   "source": [
    "Problem 28 Calculate the factorial of a given number."
   ]
  },
  {
   "cell_type": "code",
   "execution_count": 33,
   "id": "c6702d83",
   "metadata": {},
   "outputs": [
    {
     "name": "stdout",
     "output_type": "stream",
     "text": [
      "120\n"
     ]
    }
   ],
   "source": [
    "def factorial_iterative(n):\n",
    "    result = 1\n",
    "    for i in range(1, n + 1):\n",
    "        result *= i\n",
    "    return result\n",
    "\n",
    "n = 5\n",
    "print(factorial_iterative(n))"
   ]
  },
  {
   "cell_type": "markdown",
   "id": "70995c16",
   "metadata": {},
   "source": [
    "Problem 29: Check if a given number is a prime number."
   ]
  },
  {
   "cell_type": "code",
   "execution_count": 34,
   "id": "f6ef1403",
   "metadata": {},
   "outputs": [
    {
     "name": "stdout",
     "output_type": "stream",
     "text": [
      "True\n",
      "True\n"
     ]
    }
   ],
   "source": [
    "def is_prime(n):\n",
    "    if n < 2:\n",
    "        return False\n",
    "    for i in range(2, n):\n",
    "        if n % i == 0:\n",
    "            return False\n",
    "    return True\n",
    "\n",
    "print(is_prime(5))\n",
    "print(is_prime(23))"
   ]
  },
  {
   "cell_type": "markdown",
   "id": "d347376d",
   "metadata": {},
   "source": [
    "Problem 30: Generate the Fibonacci series up to a given number n."
   ]
  },
  {
   "cell_type": "code",
   "execution_count": 36,
   "id": "cec1ee23",
   "metadata": {},
   "outputs": [
    {
     "name": "stdout",
     "output_type": "stream",
     "text": [
      "[0, 1, 1, 2, 3, 5, 8, 13, 21, 34, 55, 89]\n"
     ]
    }
   ],
   "source": [
    "def generate_fibonacci_series(n):\n",
    "    fibonacci_series = []\n",
    "    a, b = 0, 1\n",
    "    while a <= n:\n",
    "        fibonacci_series.append(a)\n",
    "        a, b = b, a + b\n",
    "    return fibonacci_series\n",
    "\n",
    "n = 100\n",
    "print(generate_fibonacci_series(n))"
   ]
  },
  {
   "cell_type": "markdown",
   "id": "8f10b48e",
   "metadata": {},
   "source": [
    "Problem 31: Calculate the power of a number using recursion."
   ]
  },
  {
   "cell_type": "code",
   "execution_count": 37,
   "id": "3237bbb0",
   "metadata": {},
   "outputs": [
    {
     "name": "stdout",
     "output_type": "stream",
     "text": [
      "8\n"
     ]
    }
   ],
   "source": [
    "def power(x, n):\n",
    "    if n == 0:\n",
    "        return 1\n",
    "    elif n > 0:\n",
    "        return x * power(x, n - 1)\n",
    "    else:\n",
    "        return 1 / power(x, -n)\n",
    "\n",
    "x = 2\n",
    "n = 3\n",
    "print(power(x, n))"
   ]
  },
  {
   "cell_type": "markdown",
   "id": "f14afb9c",
   "metadata": {},
   "source": [
    "Problem 32: Reverse a given string."
   ]
  },
  {
   "cell_type": "code",
   "execution_count": 38,
   "id": "8caf1649",
   "metadata": {},
   "outputs": [
    {
     "name": "stdout",
     "output_type": "stream",
     "text": [
      "olleh\n"
     ]
    }
   ],
   "source": [
    "def reverse_string(s):\n",
    "    # Converting the string to a list (strings are immutable in Python)\n",
    "    s = list(s)\n",
    "    left, right = 0, len(s) - 1\n",
    "    while left < right:\n",
    "        # Swaping characters\n",
    "        s[left], s[right] = s[right], s[left]\n",
    "        left += 1\n",
    "        right -= 1\n",
    "    return ''.join(s)\n",
    "\n",
    "s = \"hello\"\n",
    "print(reverse_string(s))"
   ]
  },
  {
   "cell_type": "code",
   "execution_count": null,
   "id": "1e399a07",
   "metadata": {},
   "outputs": [],
   "source": []
  }
 ],
 "metadata": {
  "kernelspec": {
   "display_name": "Python 3 (ipykernel)",
   "language": "python",
   "name": "python3"
  },
  "language_info": {
   "codemirror_mode": {
    "name": "ipython",
    "version": 3
   },
   "file_extension": ".py",
   "mimetype": "text/x-python",
   "name": "python",
   "nbconvert_exporter": "python",
   "pygments_lexer": "ipython3",
   "version": "3.11.3"
  }
 },
 "nbformat": 4,
 "nbformat_minor": 5
}
